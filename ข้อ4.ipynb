{
 "cells": [
  {
   "cell_type": "code",
   "execution_count": 1,
   "metadata": {
    "dotnet_interactive": {
     "language": "csharp"
    },
    "polyglot_notebook": {
     "kernelName": "csharp"
    }
   },
   "outputs": [
    {
     "name": "stdout",
     "output_type": "stream",
     "text": [
      "ข้อมูลก่อนเรียง: [64, 34, 25, 12, 22, 11, 45, 24, 6, 90]\n",
      "ข้อมูลหลังเรียง: [6, 11, 12, 22, 24, 25, 34, 45, 64, 90]\n",
      "เวลาที่ใช้: 0.000000 มิลลิวินาที\n",
      "quick_sort([64, 34, 25, 12, 22, 11, 45, 24, 6, 90])\n",
      "เลือก pivot = 90\n",
      "แบ่งข้อมูล: left = [64, 34, 25, 12, 22, 11, 45, 24, 6], right = []\n",
      "  quick_sort([64, 34, 25, 12, 22, 11, 45, 24, 6])\n",
      "  เลือก pivot = 6\n",
      "  แบ่งข้อมูล: left = [], right = [64, 34, 25, 12, 22, 11, 45, 24]\n",
      "    quick_sort([])\n",
      "    ข้อมูลมีขนาด <= 1, ส่งคืน []\n",
      "    quick_sort([64, 34, 25, 12, 22, 11, 45, 24])\n",
      "    เลือก pivot = 24\n",
      "    แบ่งข้อมูล: left = [12, 22, 11], right = [64, 34, 25, 45]\n",
      "      quick_sort([12, 22, 11])\n",
      "      เลือก pivot = 11\n",
      "      แบ่งข้อมูล: left = [], right = [12, 22]\n",
      "        quick_sort([])\n",
      "        ข้อมูลมีขนาด <= 1, ส่งคืน []\n",
      "        quick_sort([12, 22])\n",
      "        เลือก pivot = 22\n",
      "        แบ่งข้อมูล: left = [12], right = []\n",
      "          quick_sort([12])\n",
      "          ข้อมูลมีขนาด <= 1, ส่งคืน [12]\n",
      "          quick_sort([])\n",
      "          ข้อมูลมีขนาด <= 1, ส่งคืน []\n",
      "        ผลลัพธ์รวม: [12, 22]\n",
      "      ผลลัพธ์รวม: [11, 12, 22]\n",
      "      quick_sort([64, 34, 25, 45])\n",
      "      เลือก pivot = 45\n",
      "      แบ่งข้อมูล: left = [34, 25], right = [64]\n",
      "        quick_sort([34, 25])\n",
      "        เลือก pivot = 25\n",
      "        แบ่งข้อมูล: left = [], right = [34]\n",
      "          quick_sort([])\n",
      "          ข้อมูลมีขนาด <= 1, ส่งคืน []\n",
      "          quick_sort([34])\n",
      "          ข้อมูลมีขนาด <= 1, ส่งคืน [34]\n",
      "        ผลลัพธ์รวม: [25, 34]\n",
      "        quick_sort([64])\n",
      "        ข้อมูลมีขนาด <= 1, ส่งคืน [64]\n",
      "      ผลลัพธ์รวม: [25, 34, 45, 64]\n",
      "    ผลลัพธ์รวม: [11, 12, 22, 24, 25, 34, 45, 64]\n",
      "  ผลลัพธ์รวม: [6, 11, 12, 22, 24, 25, 34, 45, 64]\n",
      "  quick_sort([])\n",
      "  ข้อมูลมีขนาด <= 1, ส่งคืน []\n",
      "ผลลัพธ์รวม: [6, 11, 12, 22, 24, 25, 34, 45, 64, 90]\n"
     ]
    },
    {
     "data": {
      "text/plain": [
       "[6, 11, 12, 22, 24, 25, 34, 45, 64, 90]"
      ]
     },
     "execution_count": 1,
     "metadata": {},
     "output_type": "execute_result"
    }
   ],
   "source": [
    "def quick_sort(arr):\n",
    "    if len(arr) <= 1:\n",
    "        return arr\n",
    "    \n",
    "    # เลือก pivot (ในที่นี้เลือกตัวสุดท้าย)\n",
    "    pivot = arr[-1]\n",
    "    \n",
    "    # แบ่งข้อมูลเป็นสองส่วน\n",
    "    left = [x for x in arr[:-1] if x <= pivot]\n",
    "    right = [x for x in arr[:-1] if x > pivot]\n",
    "    \n",
    "    # รวมผลลัพธ์\n",
    "    return quick_sort(left) + [pivot] + quick_sort(right)\n",
    "\n",
    "import time\n",
    "# ทดสอบ Quick Sort\n",
    "test_data = [64, 34, 25, 12, 22, 11, 45, 24, 6, 90]\n",
    "print(\"ข้อมูลก่อนเรียง:\", test_data)\n",
    "\n",
    "start_time = time.time()\n",
    "sorted_data = quick_sort(test_data.copy())\n",
    "end_time = time.time()\n",
    "\n",
    "print(\"ข้อมูลหลังเรียง:\", sorted_data)\n",
    "print(f\"เวลาที่ใช้: {(end_time - start_time)*1000:.6f} มิลลิวินาที\")  \n",
    "\n",
    "def quick_sort_with_steps(arr, depth=0):\n",
    "    indent = \"  \" * depth\n",
    "    print(f\"{indent}quick_sort({arr})\")\n",
    "    \n",
    "    if len(arr) <= 1:\n",
    "        print(f\"{indent}ข้อมูลมีขนาด <= 1, ส่งคืน {arr}\")\n",
    "        return arr\n",
    "    \n",
    "    pivot = arr[-1]\n",
    "    print(f\"{indent}เลือก pivot = {pivot}\")\n",
    "    \n",
    "    left = [x for x in arr[:-1] if x <= pivot]\n",
    "    right = [x for x in arr[:-1] if x > pivot]\n",
    "    \n",
    "    print(f\"{indent}แบ่งข้อมูล: left = {left}, right = {right}\")\n",
    "    \n",
    "    result = quick_sort_with_steps(left, depth + 1) + [pivot] + quick_sort_with_steps(right, depth + 1)\n",
    "    print(f\"{indent}ผลลัพธ์รวม: {result}\")\n",
    "    \n",
    "    return result\n",
    "\n",
    "# ทดสอบแสดงขั้นตอน\n",
    "test_data = [64, 34, 25, 12, 22, 11, 45, 24, 6, 90]\n",
    "quick_sort_with_steps(test_data.copy())"
   ]
  }
 ],
 "metadata": {
  "kernelspec": {
   "display_name": "Python 3",
   "language": "python",
   "name": "python3"
  },
  "language_info": {
   "codemirror_mode": {
    "name": "ipython",
    "version": 3
   },
   "file_extension": ".py",
   "mimetype": "text/x-python",
   "name": "python",
   "nbconvert_exporter": "python",
   "pygments_lexer": "ipython3",
   "version": "3.11.0"
  },
  "polyglot_notebook": {
   "kernelInfo": {
    "defaultKernelName": "csharp",
    "items": [
     {
      "aliases": [],
      "languageName": "csharp",
      "name": "csharp"
     }
    ]
   }
  }
 },
 "nbformat": 4,
 "nbformat_minor": 2
}
